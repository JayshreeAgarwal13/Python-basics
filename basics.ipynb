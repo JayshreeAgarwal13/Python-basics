{
  "nbformat": 4,
  "nbformat_minor": 0,
  "metadata": {
    "colab": {
      "provenance": []
    },
    "kernelspec": {
      "name": "python3",
      "display_name": "Python 3"
    },
    "language_info": {
      "name": "python"
    }
  },
  "cells": [
    {
      "cell_type": "code",
      "execution_count": null,
      "metadata": {
        "colab": {
          "base_uri": "https://localhost:8080/"
        },
        "id": "wREnu_cfIrNt",
        "outputId": "41b20a4d-eb5a-434a-8195-d196819df295"
      },
      "outputs": [
        {
          "output_type": "stream",
          "name": "stdout",
          "text": [
            "enter the number to be checked: 56\n",
            "Even\n"
          ]
        }
      ],
      "source": [
        "# 1.Write a program to print the given number is odd or even.\n",
        "num= int(input(\"enter the number to be checked: \"))\n",
        "if num%2 == 0 :\n",
        "  print (\"Even\")\n",
        "else:\n",
        "  print (\"Odd\")"
      ]
    },
    {
      "cell_type": "code",
      "source": [
        "# 2.Write a program to find the given number is positive or negative.\n",
        "number = int(input(\"Enter a number: \"))\n",
        "\n",
        "if number > 0:\n",
        "    print(\"The number is positive.\")\n",
        "elif number < 0:\n",
        "    print(\"The number is negative.\")\n",
        "else:\n",
        "    print(\"The number is zero.\")\n"
      ],
      "metadata": {
        "colab": {
          "base_uri": "https://localhost:8080/"
        },
        "id": "Fy76v_aeJeEG",
        "outputId": "7118c4d7-3e65-421d-a11d-b6f7536830bc"
      },
      "execution_count": null,
      "outputs": [
        {
          "output_type": "stream",
          "name": "stdout",
          "text": [
            "Enter a number: 45\n",
            "The number is positive.\n"
          ]
        }
      ]
    },
    {
      "cell_type": "code",
      "source": [
        "# 3. sum of 2 nos.\n",
        "num1 = int(input(\"Enter the first number: \"))\n",
        "num2 = int(input(\"Enter the second number: \"))\n",
        "\n",
        "sum = num1 + num2\n",
        "print(\"The sum of the two numbers is:\", sum)\n"
      ],
      "metadata": {
        "colab": {
          "base_uri": "https://localhost:8080/"
        },
        "id": "NRIsJNRbJyv0",
        "outputId": "f25bbcdc-3ff6-4140-d41b-e1b477897104"
      },
      "execution_count": null,
      "outputs": [
        {
          "output_type": "stream",
          "name": "stdout",
          "text": [
            "Enter the first number: 69\n",
            "Enter the second number: 31\n",
            "The sum of the two numbers is: 100\n"
          ]
        }
      ]
    },
    {
      "cell_type": "code",
      "source": [
        "# 4.Write a program to find if the given number is prime or not.\n",
        "number = int(input(\"Enter a number: \"))\n",
        "if number > 1:\n",
        "    for i in range(2, number):\n",
        "        if number % i == 0:\n",
        "            print(\"The number is not prime.\")\n",
        "            break\n",
        "    else:\n",
        "        print(\"The number is prime.\")\n",
        "else:\n",
        "    print(\"The number is not prime.\")\n"
      ],
      "metadata": {
        "colab": {
          "base_uri": "https://localhost:8080/"
        },
        "id": "2rTFSNVwKEYr",
        "outputId": "74ea6942-163b-47a1-e82e-6be3ffe5cab4"
      },
      "execution_count": null,
      "outputs": [
        {
          "output_type": "stream",
          "name": "stdout",
          "text": [
            "Enter a number: 41\n",
            "The number is prime.\n"
          ]
        }
      ]
    },
    {
      "cell_type": "code",
      "source": [
        "# 5. Write a program to check if the given number is palindrome or not.\n",
        "number = int(input(\"Enter a number: \"))\n",
        "temp = number\n",
        "reverse = 0\n",
        "\n",
        "while temp != 0:\n",
        "    remainder = temp % 10\n",
        "    reverse = reverse * 10 + remainder\n",
        "    temp = temp // 10\n",
        "\n",
        "if number == reverse:\n",
        "    print(\"The number is a palindrome.\")\n",
        "else:\n",
        "    print(\"The number is not a palindrome.\")\n"
      ],
      "metadata": {
        "colab": {
          "base_uri": "https://localhost:8080/"
        },
        "id": "v9a3rgfNKeoe",
        "outputId": "cf192b12-b7ff-46f3-dec7-0a8d2521ea2f"
      },
      "execution_count": null,
      "outputs": [
        {
          "output_type": "stream",
          "name": "stdout",
          "text": [
            "Enter a number: 121\n",
            "The number is a palindrome.\n"
          ]
        }
      ]
    },
    {
      "cell_type": "code",
      "source": [
        "# 6. Write a program to check if the given number is Armstrong or not.\n",
        "number = int(input(\"Enter a number: \"))\n",
        "temp = number\n",
        "num_digits = len(str(number))\n",
        "sum = 0\n",
        "\n",
        "while temp != 0:\n",
        "    remainder = temp % 10\n",
        "    sum += remainder ** num_digits\n",
        "    temp = temp // 10\n",
        "\n",
        "if number == sum:\n",
        "    print(\"The number is an Armstrong number.\")\n",
        "else:\n",
        "    print(\"The number is not an Armstrong number.\")\n"
      ],
      "metadata": {
        "colab": {
          "base_uri": "https://localhost:8080/"
        },
        "id": "D4CKtGR-KpbR",
        "outputId": "a334a59d-0630-4f7f-90f5-455b57aa04a5"
      },
      "execution_count": null,
      "outputs": [
        {
          "output_type": "stream",
          "name": "stdout",
          "text": [
            "Enter a number: 153\n",
            "The number is an Armstrong number.\n"
          ]
        }
      ]
    },
    {
      "cell_type": "code",
      "source": [
        "# 7.Write a program to check if the given strings are anagram or not.\n",
        "string1 = input(\"Enter the first string: \").lower()\n",
        "string2 = input(\"Enter the second string: \").lower()\n",
        "\n",
        "if sorted(string1) == sorted(string2):\n",
        "    print(\"The strings are anagrams.\")\n",
        "else:\n",
        "    print(\"The strings are not anagrams.\")\n"
      ],
      "metadata": {
        "colab": {
          "base_uri": "https://localhost:8080/"
        },
        "id": "5o59FvI7K-qF",
        "outputId": "4faf923b-9a2f-4892-be41-9ba9e4ca1d1a"
      },
      "execution_count": null,
      "outputs": [
        {
          "output_type": "stream",
          "name": "stdout",
          "text": [
            "Enter the first string: abcd\n",
            "Enter the second string: DABC\n",
            "The strings are anagrams.\n"
          ]
        }
      ]
    },
    {
      "cell_type": "code",
      "source": [
        "\n",
        "# 8.Write a program to find a maximum of two numbers.\n",
        "num1 = int(input(\"Enter the first number: \"))\n",
        "num2 = InterruptiblePdb(input(\"Enter the second number: \"))\n",
        "\n",
        "maximum = max(num1, num2)\n",
        "print(\"The maximum of the two numbers is:\", maximum)\n"
      ],
      "metadata": {
        "colab": {
          "base_uri": "https://localhost:8080/"
        },
        "id": "kTwjpnYbLVyX",
        "outputId": "00ddea18-027a-4d72-944f-a60d4d3df78c"
      },
      "execution_count": null,
      "outputs": [
        {
          "output_type": "stream",
          "name": "stdout",
          "text": [
            "Enter the first number: 4334\n",
            "Enter the second number: 8663\n",
            "The maximum of the two numbers is: 8663.0\n"
          ]
        }
      ]
    },
    {
      "cell_type": "code",
      "source": [
        "#9.Write a program to find a minimum of two numbers.\n",
        "num1 = int(input(\"Enter the first number: \"))\n",
        "num2 = int(input(\"Enter the second number: \"))\n",
        "\n",
        "minimum = min(num1, num2)\n",
        "print(\"The minimum of the two numbers is:\", minimum)\n"
      ],
      "metadata": {
        "colab": {
          "base_uri": "https://localhost:8080/"
        },
        "id": "Zvp9AjJRLhbf",
        "outputId": "bf2bcf9d-91db-4e2b-d780-db85e3745006"
      },
      "execution_count": null,
      "outputs": [
        {
          "output_type": "stream",
          "name": "stdout",
          "text": [
            "Enter the first number: 43\n",
            "Enter the second number: 45\n",
            "The minimum of the two numbers is: 43.0\n"
          ]
        }
      ]
    },
    {
      "cell_type": "code",
      "source": [
        "# 10.Write a program to find a maximum of three numbers.\n",
        "num1 = int(input(\"Enter the first number: \"))\n",
        "num2 = int(input(\"Enter the second number: \"))\n",
        "num3 = int(input(\"Enter the third number: \"))\n",
        "\n",
        "maximum = max(num1, num2, num3)\n",
        "print(\"The maximum of the three numbers is:\", maximum)\n"
      ],
      "metadata": {
        "id": "9sPC6upULhpC"
      },
      "execution_count": null,
      "outputs": []
    },
    {
      "cell_type": "code",
      "source": [
        "# 11.Write a program to find a minimum of three numbers.\n",
        "num1 = int(input(\"Enter the first number: \"))\n",
        "num2 = int(input(\"Enter the second number: \"))\n",
        "num3 = int(input(\"Enter the third number: \"))\n",
        "\n",
        "minimum = min(num1, num2, num3)\n",
        "print(\"The minimum of the three numbers is:\", minimum)\n"
      ],
      "metadata": {
        "colab": {
          "base_uri": "https://localhost:8080/"
        },
        "id": "_XLtFir6Lh0N",
        "outputId": "e201fb7b-d0c9-4b27-a34d-1320160e1024"
      },
      "execution_count": null,
      "outputs": [
        {
          "output_type": "stream",
          "name": "stdout",
          "text": [
            "Enter the first number: 1\n",
            "Enter the second number: 2\n",
            "Enter the third number: 3\n",
            "The minimum of the three numbers is: 1.0\n"
          ]
        }
      ]
    },
    {
      "cell_type": "code",
      "source": [
        "# 12.Write a program to find a factorial of a number.\n",
        "number = int(input(\"Enter a number: \"))\n",
        "factorial = 1\n",
        "\n",
        "if number < 0:\n",
        "    print(\"Factorial does not exist for negative numbers.\")\n",
        "elif number == 0:\n",
        "    print(\"The factorial of 0 is 1.\")\n",
        "else:\n",
        "    for i in range(1, number + 1):\n",
        "        factorial *= i\n",
        "    print(\"The factorial of\", number, \"is\", factorial)\n"
      ],
      "metadata": {
        "id": "ANVEqzwxLh-X"
      },
      "execution_count": null,
      "outputs": []
    },
    {
      "cell_type": "code",
      "source": [
        "# 13.Write a program to find a fibonacci of a number.\n",
        "number = int(input(\"Enter a number: \"))\n",
        "fibonacci = [0, 1]\n",
        "\n",
        "if number <= 0:\n",
        "    print(\"Fibonacci series is not defined for non-positive numbers.\")\n",
        "elif number == 1:\n",
        "    print(\"The Fibonacci series is:\", fibonacci[:1])\n",
        "else:\n",
        "    while fibonacci[-1] + fibonacci[-2] <= number:\n",
        "        fibonacci.append(fibonacci[-1] + fibonacci[-2])\n",
        "    print(\"The Fibonacci series is:\", fibonacci)\n"
      ],
      "metadata": {
        "id": "nJv3HzhgLiHb"
      },
      "execution_count": null,
      "outputs": []
    },
    {
      "cell_type": "code",
      "source": [
        "# 14.Write a program to find GCD of two numbers.\n",
        "def find_gcd(num1, num2):\n",
        "    while num2:\n",
        "        num1, num2 = num2, num1 % num2\n",
        "    return num1\n",
        "\n",
        "num1 = int(input(\"Enter the first number: \"))\n",
        "num2 = int(input(\"Enter the second number: \"))\n",
        "\n",
        "gcd = find_gcd(num1, num2)\n",
        "print(\"The GCD of\", num1, \"and\", num2, \"is\", gcd)\n"
      ],
      "metadata": {
        "id": "xvU6ulexNQai"
      },
      "execution_count": null,
      "outputs": []
    },
    {
      "cell_type": "markdown",
      "source": [
        "![image.png](data:image/png;base64,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)"
      ],
      "metadata": {
        "id": "ctt0ZchzNm0X"
      }
    },
    {
      "cell_type": "code",
      "source": [
        "rows = 5\n",
        "for i in range(1, rows + 1):\n",
        "    for j in range(i):\n",
        "        print(\"*\", end=\" \")\n",
        "    print()\n"
      ],
      "metadata": {
        "id": "ayjfAu2rNZ79"
      },
      "execution_count": null,
      "outputs": []
    },
    {
      "cell_type": "markdown",
      "source": [
        "![image.png](data:image/png;base64,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)"
      ],
      "metadata": {
        "id": "heZe9sAgOBqY"
      }
    },
    {
      "cell_type": "code",
      "source": [
        "rows = 5\n",
        "for i in range(1, rows + 1):\n",
        "    print(\" \" * (rows - i), end=\"\")\n",
        "    for j in range(i):\n",
        "        print(\"*\", end=\" \")\n",
        "    print()\n"
      ],
      "metadata": {
        "id": "u3P_LburOFRB"
      },
      "execution_count": null,
      "outputs": []
    },
    {
      "cell_type": "markdown",
      "source": [
        "![image.png](data:image/png;base64,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)"
      ],
      "metadata": {
        "id": "VYWCgxd9OLAv"
      }
    },
    {
      "cell_type": "code",
      "source": [
        "rows = 5\n",
        "for i in range(1, rows + 1):\n",
        "    for j in range(1, i + 1):\n",
        "        print(j, end=\" \")\n",
        "    print()\n"
      ],
      "metadata": {
        "id": "GmleBR7wOPfl"
      },
      "execution_count": null,
      "outputs": []
    },
    {
      "cell_type": "markdown",
      "source": [
        "![image.png](data:image/png;base64,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)"
      ],
      "metadata": {
        "id": "ELNtwV3OOWPE"
      }
    },
    {
      "cell_type": "code",
      "source": [
        "rows = 5\n",
        "num = 1\n",
        "for i in range(1, rows + 1):\n",
        "    for j in range(i):\n",
        "        print(num, end=\" \")\n",
        "        num += 1\n",
        "    print()\n"
      ],
      "metadata": {
        "id": "KAFjHISsOaP1"
      },
      "execution_count": null,
      "outputs": []
    },
    {
      "cell_type": "markdown",
      "source": [
        "![image.png](data:image/png;base64,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)"
      ],
      "metadata": {
        "id": "edpJ_9kjOeVE"
      }
    },
    {
      "cell_type": "code",
      "source": [
        "rows = 5\n",
        "character = 65\n",
        "for i in range(1, rows + 1):\n",
        "    for j in range(i):\n",
        "        print(chr(character), end=\" \")\n",
        "    character += 1\n",
        "    print()\n"
      ],
      "metadata": {
        "id": "tmKILFRLOifQ"
      },
      "execution_count": null,
      "outputs": []
    },
    {
      "cell_type": "markdown",
      "source": [
        "![image.png](data:image/png;base64,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)"
      ],
      "metadata": {
        "id": "72fxwUbNOnc5"
      }
    },
    {
      "cell_type": "code",
      "source": [
        "rows = 5\n",
        "character = 65\n",
        "count = 1\n",
        "for i in range(1, rows + 1):\n",
        "    for j in range(i):\n",
        "        print(chr(character), end=\" \")\n",
        "        character += 1\n",
        "        count += 1\n",
        "    print()\n"
      ],
      "metadata": {
        "id": "QJmQu9pxOm7k"
      },
      "execution_count": null,
      "outputs": []
    }
  ]
}